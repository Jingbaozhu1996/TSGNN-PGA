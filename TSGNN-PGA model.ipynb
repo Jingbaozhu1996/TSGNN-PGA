{
 "cells": [
  {
   "cell_type": "code",
   "execution_count": 1,
   "metadata": {},
   "outputs": [],
   "source": [
    "import numpy as np\n",
    "import pandas as pd\n",
    "from datetime import date, timedelta\n",
    "import os\n",
    "import random\n",
    "import matplotlib.pyplot as plt\n",
    "from tqdm import tqdm\n",
    "from scipy.stats import skew, kurtosis\n",
    "\n",
    "from sklearn.preprocessing import StandardScaler\n",
    "from sklearn.metrics import mean_squared_error\n",
    "from tensorflow.keras import layers,Sequential,losses,optimizers,datasets\n",
    "\n",
    "import tensorflow as tf\n",
    "from tensorflow import keras\n",
    "from tensorflow.keras.layers import *\n",
    "from tensorflow.keras.models import *\n",
    "from tensorflow.keras.optimizers import *\n",
    "from tensorflow.keras.callbacks import *\n",
    "from tensorflow.keras import backend as K\n",
    "\n",
    "def setup_seed(seed):\n",
    "    random.seed(seed)  # 为python设置随机种子\n",
    "    np.random.seed(seed)  # 为numpy设置随机种子\n",
    "    tf.random.set_seed(seed)  # tf cpu fix seed\n",
    "    os.environ['TF_DETERMINISTIC_OPS'] = '1'  # tf gpu fix seed, please `pip install tensorflow-determinism` first\n",
    "\n",
    "setup_seed(2020)\n",
    "\n",
    "\n",
    "seed = 2020\n",
    "random.seed = 2020\n",
    "np.random.seed = 2020\n",
    "tf.seed = 2020\n",
    "tf.random.set_seed(2020)"
   ]
  },
  {
   "cell_type": "code",
   "execution_count": 2,
   "metadata": {},
   "outputs": [],
   "source": [
    "import tensorflow as tf\n",
    "\n",
    "class CorrelationLayer(tf.keras.layers.Layer):\n",
    "    def __init__(self):\n",
    "        super(CorrelationLayer, self).__init__()\n",
    "\n",
    "    def call(self, x):\n",
    "        # Compute mean and standard deviation for each batch and node\n",
    "        mean = tf.reduce_mean(x, axis=1, keepdims=True)\n",
    "        std = tf.math.reduce_std(x, axis=1, keepdims=True)\n",
    "\n",
    "        # Compute centered inputs\n",
    "        x_centered = x - mean\n",
    "\n",
    "        # Compute covariance matrix for each batch and node\n",
    "        covariance_matrix = tf.matmul(x_centered, x_centered, transpose_b=True)\n",
    "\n",
    "        # Compute correlation matrix using covariance matrix and standard deviation\n",
    "        correlation_matrix = tf.divide(covariance_matrix, tf.matmul(std, std, transpose_b=True))\n",
    "\n",
    "        # Compute Laplacian transformation of correlation matrix\n",
    "        laplacian_transform = self.localpooling_filter(correlation_matrix)\n",
    "\n",
    "        return laplacian_transform\n",
    "\n",
    "    def localpooling_filter(self, matrix):\n",
    "        # Compute diagonal degree matrix\n",
    "        degree_matrix = tf.linalg.diag(tf.reduce_sum(matrix, axis=1))\n",
    "\n",
    "        # Compute graph Laplacian\n",
    "        laplacian_matrix = degree_matrix - matrix\n",
    "\n",
    "        # Compute Laplacian eigenvectors and eigenvalues\n",
    "        eigenvalues, eigenvectors = tf.linalg.eigh(laplacian_matrix)\n",
    "\n",
    "        # Compute Laplacian Fourier Transform\n",
    "        laplacian_transform = tf.matmul(eigenvectors, tf.matmul(tf.linalg.diag(eigenvalues), eigenvectors, adjoint_b=True))\n",
    "\n",
    "        return laplacian_transform\n",
    "\n"
   ]
  },
  {
   "cell_type": "code",
   "execution_count": 3,
   "metadata": {},
   "outputs": [],
   "source": [
    "### IMPORT SPEKTRAL CLASSES ###\n",
    "\n",
    "from spektral_utilities import *\n",
    "from spektral_gcn import GraphConv"
   ]
  },
  {
   "cell_type": "code",
   "execution_count": 4,
   "metadata": {},
   "outputs": [],
   "source": [
    "import scipy.io as scio\n",
    "import pandas as pd\n",
    "\n",
    "#input Train\n",
    "feature1tr = r'\\训练集\\ACC_EW.mat'\n",
    "data1tr = scio.loadmat(feature1tr)\n",
    "AAtr=data1tr['ACC_EW']\n",
    "Atr=AAtr[:,0:300]\n",
    "\n",
    "feature2tr = r'\\训练集\\ACC_NS.mat'\n",
    "data2tr = scio.loadmat(feature2tr)\n",
    "BBtr=data2tr['ACC_NS']\n",
    "Btr=BBtr[:,0:300]\n",
    "\n",
    "feature3tr = r'\\训练集\\ACC_UD.mat'\n",
    "data3tr = scio.loadmat(feature3tr)\n",
    "CCtr=data3tr['ACC_UD']\n",
    "Ctr=CCtr[:,0:300]\n",
    "\n",
    "feature4tr = r'\\训练集\\DIS_EW.mat'\n",
    "data4tr = scio.loadmat(feature4tr)\n",
    "DDtr=data4tr['DIS_EW']\n",
    "Dtr=DDtr[:,0:300]\n",
    "\n",
    "feature5tr = r'\\训练集\\DIS_NS.mat'\n",
    "data5tr = scio.loadmat(feature5tr)\n",
    "EEtr=data5tr['DIS_NS']\n",
    "Etr=EEtr[:,0:300]\n",
    "\n",
    "feature6tr = r'\\训练集\\DIS_UD.mat'\n",
    "data6tr = scio.loadmat(feature6tr)\n",
    "FFtr=data6tr['DIS_UD']\n",
    "Ftr=FFtr[:,0:300]\n",
    "\n",
    "feature7tr = r'\\训练集\\VEL_EW.mat'\n",
    "data7tr = scio.loadmat(feature7tr)\n",
    "GGtr=data7tr['VEL_EW']\n",
    "Gtr=GGtr[:,0:300]\n",
    "\n",
    "feature8tr = r'\\训练集\\VEL_NS.mat'\n",
    "data8tr = scio.loadmat(feature8tr)\n",
    "HHtr=data8tr['VEL_NS']\n",
    "Htr=HHtr[:,0:300]\n",
    "\n",
    "feature9tr = r'\\训练集\\VEL_UD.mat'\n",
    "data9tr = scio.loadmat(feature9tr)\n",
    "IItr=data9tr['VEL_UD']\n",
    "Itr=IItr[:,0:300]\n",
    "\n",
    "\n",
    "labeltr = pd.read_csv(open(r'\\训练PGA参数3s.csv',encoding='UTF-8'))\n"
   ]
  },
  {
   "cell_type": "code",
   "execution_count": 5,
   "metadata": {},
   "outputs": [
    {
     "name": "stdout",
     "output_type": "stream",
     "text": [
      "(5676, 2700)\n",
      "[-2.73583973 -1.05974777  0.82828398 -2.3106034   0.87406158 -1.40242555\n",
      "  3.1753013   1.33385767 -0.07072855  1.45007179]\n",
      "(5676, 10)\n"
     ]
    }
   ],
   "source": [
    "#input Train\n",
    "raw_data1tr=np.hstack((Atr,Btr))\n",
    "raw_data2tr=np.hstack((raw_data1tr,Ctr))\n",
    "raw_data3tr=np.hstack((raw_data2tr,Dtr))\n",
    "raw_data4tr=np.hstack((raw_data3tr,Etr))\n",
    "raw_data5tr=np.hstack((raw_data4tr,Ftr))\n",
    "raw_data6tr=np.hstack((raw_data5tr,Gtr))\n",
    "raw_data7tr=np.hstack((raw_data6tr,Htr))\n",
    "x_datatr=np.hstack((raw_data7tr,Itr))\n",
    "\n",
    "print(x_datatr.shape)\n",
    "\n",
    "\n",
    "y_datatr=labeltr.iloc[:,[0,1,2,3,4,5,6,7,8,9]].values  #知识嵌入\n",
    "#y_data=label.iloc[:,[12]].values    #导入数据  iloc通过行号获取行数据\n",
    "print(y_datatr[0])\n",
    "print(y_datatr.shape)"
   ]
  },
  {
   "cell_type": "code",
   "execution_count": 6,
   "metadata": {},
   "outputs": [],
   "source": [
    "##input Test\n",
    "feature1te = r'\\测试集\\ACC_EW.mat'\n",
    "data1te = scio.loadmat(feature1te)\n",
    "AAte=data1te['ACC_EW']\n",
    "Ate=AAte[:,0:300]\n",
    "\n",
    "feature2te = r'\\测试集\\ACC_NS.mat'\n",
    "data2te = scio.loadmat(feature2te)\n",
    "BBte=data2te['ACC_NS']\n",
    "Bte=BBte[:,0:300]\n",
    "\n",
    "feature3te = r'\\测试集\\ACC_UD.mat'\n",
    "data3te = scio.loadmat(feature3te)\n",
    "CCte=data3te['ACC_UD']\n",
    "Cte=CCte[:,0:300]\n",
    "\n",
    "feature4te = r'\\测试集\\DIS_EW.mat'\n",
    "data4te = scio.loadmat(feature4te)\n",
    "DDte=data4te['DIS_EW']\n",
    "Dte=DDte[:,0:300]\n",
    "\n",
    "feature5te = r'\\测试集\\DIS_NS.mat'\n",
    "data5te = scio.loadmat(feature5te)\n",
    "EEte=data5te['DIS_NS']\n",
    "Ete=EEte[:,0:300]\n",
    "\n",
    "feature6te = r'\\测试集\\DIS_UD.mat'\n",
    "data6te = scio.loadmat(feature6te)\n",
    "FFte=data6te['DIS_UD']\n",
    "Fte=FFte[:,0:300]\n",
    "\n",
    "feature7te = r'\\测试集\\VEL_EW.mat'\n",
    "data7te = scio.loadmat(feature7te)\n",
    "GGte=data7te['VEL_EW']\n",
    "Gte=GGte[:,0:300]\n",
    "\n",
    "feature8te = r'\\测试集\\VEL_NS.mat'\n",
    "data8te = scio.loadmat(feature8te)\n",
    "HHte=data8te['VEL_NS']\n",
    "Hte=HHte[:,0:300]\n",
    "\n",
    "feature9te = r'\\测试集\\VEL_UD.mat'\n",
    "data9te = scio.loadmat(feature9te)\n",
    "IIte=data9te['VEL_UD']\n",
    "Ite=IIte[:,0:300]\n",
    "\n",
    "\n",
    "labelte = pd.read_csv(open(r'\\测试PGA参数3s.csv',encoding='UTF-8'))\n",
    "\n",
    "\n"
   ]
  },
  {
   "cell_type": "code",
   "execution_count": 7,
   "metadata": {},
   "outputs": [
    {
     "name": "stdout",
     "output_type": "stream",
     "text": [
      "(2392, 2700)\n",
      "[-2.80460735 -1.24855529  0.72216035 -2.65277269  0.73655366 -1.63890669\n",
      "  3.03786129  1.14245987 -0.21175345  0.87707322]\n",
      "(2392, 10)\n"
     ]
    }
   ],
   "source": [
    "#input Test\n",
    "raw_data1te=np.hstack((Ate,Bte))\n",
    "raw_data2te=np.hstack((raw_data1te,Cte))\n",
    "raw_data3te=np.hstack((raw_data2te,Dte))\n",
    "raw_data4te=np.hstack((raw_data3te,Ete))\n",
    "raw_data5te=np.hstack((raw_data4te,Fte))\n",
    "raw_data6te=np.hstack((raw_data5te,Gte))\n",
    "raw_data7te=np.hstack((raw_data6te,Hte))\n",
    "x_datate=np.hstack((raw_data7te,Ite))\n",
    "\n",
    "print(x_datate.shape)\n",
    "\n",
    "\n",
    "y_datate=labelte.iloc[:,[0,1,2,3,4,5,6,7,8,9]].values  #知识嵌入\n",
    "#y_data=label.iloc[:,[12]].values    #导入数据  iloc通过行号获取行数据\n",
    "print(y_datate[0])\n",
    "print(y_datate.shape)\n",
    "\n",
    "\n"
   ]
  },
  {
   "cell_type": "code",
   "execution_count": 8,
   "metadata": {},
   "outputs": [],
   "source": [
    "train_xx=x_datatr\n",
    "test_xx=x_datate"
   ]
  },
  {
   "cell_type": "code",
   "execution_count": null,
   "metadata": {},
   "outputs": [],
   "source": []
  },
  {
   "cell_type": "code",
   "execution_count": 9,
   "metadata": {},
   "outputs": [
    {
     "name": "stdout",
     "output_type": "stream",
     "text": [
      "(5676, 1)\n",
      "[1.45007179]\n",
      "(5676, 9)\n",
      "[-2.73583973 -1.05974777  0.82828398 -2.3106034   0.87406158 -1.40242555\n",
      "  3.1753013   1.33385767 -0.07072855]\n",
      "(2392, 1)\n",
      "[0.87707322]\n",
      "(2392, 9)\n",
      "[-2.80460735 -1.24855529  0.72216035 -2.65277269  0.73655366 -1.63890669\n",
      "  3.03786129  1.14245987 -0.21175345]\n"
     ]
    }
   ],
   "source": [
    "#Train\n",
    "train_y=y_datatr[:,[9]]\n",
    "train_physics=y_datatr[:,[0,1,2,3,4,5,6,7,8]]\n",
    "print(train_y.shape)\n",
    "print(train_y[0])\n",
    "\n",
    "print(train_physics.shape)\n",
    "print(train_physics[0])\n",
    "\n",
    "\n",
    "#Test\n",
    "test_y=y_datate[:,[9]]\n",
    "test_physics=y_datate[:,[0,1,2,3,4,5,6,7,8]]\n",
    "print(test_y.shape)\n",
    "print(test_y[0])\n",
    "\n",
    "print(test_physics.shape)\n",
    "print(test_physics[0])"
   ]
  },
  {
   "cell_type": "code",
   "execution_count": 10,
   "metadata": {},
   "outputs": [],
   "source": [
    "train_x=[]\n",
    "for i in range(len(train_xx)):\n",
    "    train_x.append(np.array(train_xx[i].reshape(9,1,300)).T)"
   ]
  },
  {
   "cell_type": "code",
   "execution_count": 11,
   "metadata": {},
   "outputs": [],
   "source": [
    "test_x=[]\n",
    "for i in range(len(test_xx)):\n",
    "    test_x.append(np.array(test_xx[i].reshape(9,1,300)).T)"
   ]
  },
  {
   "cell_type": "code",
   "execution_count": 12,
   "metadata": {},
   "outputs": [],
   "source": [
    "train_x=np.array(train_x)\n",
    "test_x=np.array(test_x)"
   ]
  },
  {
   "cell_type": "code",
   "execution_count": 13,
   "metadata": {},
   "outputs": [
    {
     "name": "stdout",
     "output_type": "stream",
     "text": [
      "0 5676\n",
      "1 300\n",
      "(5676, 300, 9)\n"
     ]
    }
   ],
   "source": [
    "#3#  ##Reshaping\n",
    "train_x = np.reshape(train_x, (train_x.shape[0], 300, 9))\n",
    "test_x = np.reshape(test_x, (test_x.shape[0], 300, 9))\n",
    "print(\"0\",train_x.shape[0])\n",
    "print(\"1\",train_x.shape[1])\n",
    "print(train_x.shape)\n",
    "#print(train_x)"
   ]
  },
  {
   "cell_type": "code",
   "execution_count": 14,
   "metadata": {},
   "outputs": [],
   "source": [
    "from keras import backend as K\n",
    "from keras.engine.topology import Layer\n",
    "class Self_Attention(Layer):\n",
    " \n",
    "    def __init__(self, output_dim, **kwargs):\n",
    "        self.output_dim = output_dim\n",
    "        super(Self_Attention, self).__init__(**kwargs)\n",
    " \n",
    "    def build(self, input_shape):\n",
    "        # 为该层创建一个可训练的权重\n",
    "        #inputs.shape = (batch_size, time_steps, seq_len)\n",
    "        self.kernel = self.add_weight(name='kernel',\n",
    "                                      shape=(3,input_shape[2], self.output_dim),\n",
    "                                      initializer='uniform',\n",
    "                                      trainable=True)\n",
    " \n",
    "        super(Self_Attention, self).build(input_shape)  # 一定要在最后调用它\n",
    " \n",
    "    def call(self, x):\n",
    "        WQ = K.dot(x, self.kernel[0])\n",
    "        WK = K.dot(x, self.kernel[1])\n",
    "        WV = K.dot(x, self.kernel[2])\n",
    " \n",
    "        print(\"WQ.shape\",WQ.shape)\n",
    " \n",
    "        print(\"K.permute_dimensions(WK, [0, 2, 1]).shape\",K.permute_dimensions(WK, [0, 2, 1]).shape)\n",
    " \n",
    " \n",
    "        QK = K.batch_dot(WQ,K.permute_dimensions(WK, [0, 2, 1]))\n",
    " \n",
    "        QK = QK / (64**0.5)\n",
    " \n",
    "        QK = K.softmax(QK)\n",
    " \n",
    "        print(\"QK.shape\",QK.shape)\n",
    " \n",
    "        V = K.batch_dot(QK,WV)\n",
    " \n",
    "        return V\n",
    " \n",
    "    def compute_output_shape(self, input_shape):\n",
    " \n",
    "        return (input_shape[0],input_shape[1],self.output_dim)\n",
    "\n",
    "    def get_config(self):  #在有自定义网络层时，需要保存模型时，重写get_config函数\n",
    "        config = {\"output_dim\": self.output_dim}\n",
    "        base_config = super(Self_Attention, self).get_config()\n",
    "        return dict(list(base_config.items()) + list(config.items()))"
   ]
  },
  {
   "cell_type": "code",
   "execution_count": 15,
   "metadata": {},
   "outputs": [
    {
     "name": "stdout",
     "output_type": "stream",
     "text": [
      "300\n"
     ]
    }
   ],
   "source": [
    "print(train_x.shape[1])"
   ]
  },
  {
   "cell_type": "code",
   "execution_count": 16,
   "metadata": {},
   "outputs": [],
   "source": [
    "seed=50\n",
    "#50 17.20 1.32\n",
    "\n",
    "def get_model():\n",
    "\n",
    "    \n",
    "    inp = tf.keras.layers.Input((300,9))  #如果我用CNN提取特征？？  \n",
    "\n",
    "    feat = tf.keras.layers.Conv1D(256,kernel_size=4,strides=2,    #   32  15.76 0.65  33.68 0.302\n",
    "                  kernel_initializer=keras.initializers.he_normal(seed=seed),\\\n",
    "                  bias_initializer=keras.initializers.he_normal(seed=seed),\\\n",
    "                  input_shape = (300,9),padding=\"same\")(inp)\n",
    "    feat = tf.keras.layers.ReLU()(feat)\n",
    "    feat = tf.keras.layers.BatchNormalization()(feat) \n",
    "    feat = tf.keras.layers.MaxPooling1D(pool_size=2,strides=2,padding=\"same\")(feat)\n",
    "    feat = tf.keras.layers.Dropout(rate=0.2)(feat)  # \n",
    "    \n",
    "    \n",
    "    feat = tf.keras.layers.Conv1D(256,kernel_size=4,strides=2,   # 32  \n",
    "                  kernel_initializer=keras.initializers.he_normal(seed=seed),\\\n",
    "                  bias_initializer=keras.initializers.he_normal(seed=seed),\\\n",
    "                  padding=\"same\")(feat) \n",
    "    feat = tf.keras.layers.ReLU()(feat)\n",
    "    feat = tf.keras.layers.BatchNormalization()(feat) \n",
    "    feat = tf.keras.layers.MaxPooling1D(pool_size=2,strides=2,padding=\"same\")(feat) # 高宽各减半的池化层\n",
    "    feat = tf.keras.layers.Dropout(rate=0.2)(feat)  # \n",
    "    \n",
    "    feat = tf.keras.layers.Conv1D(256,kernel_size=4,strides=2,   # 32  \n",
    "                  kernel_initializer=keras.initializers.he_normal(seed=seed),\\\n",
    "                  bias_initializer=keras.initializers.he_normal(seed=seed),\\\n",
    "                  padding=\"same\")(feat) \n",
    "    feat = tf.keras.layers.ReLU()(feat)\n",
    "    feat = tf.keras.layers.BatchNormalization()(feat) \n",
    "    feat = tf.keras.layers.MaxPooling1D(pool_size=2,strides=2,padding=\"same\")(feat) # 高宽各减半的池化层\n",
    "    feat = tf.keras.layers.Dropout(rate=0.2)(feat)  #     \n",
    "\n",
    "\n",
    "    \n",
    "    cor1 = CorrelationLayer()(feat)  #\n",
    "    x = GraphConv(16, activation='relu',kernel_initializer=tf.keras.initializers.he_normal(seed=seed))([feat, cor1]) #包含了节点特征\n",
    "\n",
    "    cor2 = CorrelationLayer()(x)    \n",
    "    x = GraphConv(16, activation='relu',kernel_initializer=tf.keras.initializers.he_normal(seed=seed))([x, cor2]) #包含了节点特征\n",
    "\n",
    "    \n",
    "\n",
    "\n",
    "    x = Self_Attention(20)(x) # 20 0.764\n",
    "    x = Flatten()(x)\n",
    "        \n",
    "    \n",
    "    inpt2 = tf.keras.layers.Input(shape=(9,))   #加入场地放大系数\n",
    "    \n",
    "    \n",
    "    xx = tf.keras.layers.Bidirectional(LSTM(128,return_sequences=True, dropout=0.0, recurrent_dropout=0.0))(inp) #时序信息\n",
    "    xx = tf.keras.layers.Bidirectional(LSTM(64,return_sequences=False, dropout=0.0, recurrent_dropout=0.0))(xx) #时序信息\n",
    "    \n",
    "    conc = tf.keras.layers.Concatenate()([x,xx,inpt2]) \n",
    "\n",
    "\n",
    "    \n",
    "    x1 = Dense(256, activation='relu')(conc)\n",
    "    x1 = Dense(128, activation='relu')(x1)   \n",
    "    x1 = Dense(64, activation='relu')(x1) #64\n",
    "    x1 = Dense(50, activation='relu')(x1)  #50  正在调整\n",
    "    x1 = Dense(30, activation='relu')(x1) #30\n",
    "\n",
    "\n",
    "    out = Dense(1)(x1)\n",
    "\n",
    "    #model = Model([inp_seq, inp_lap, inp_feat], out)  ,inpt2\n",
    "    rms = optimizers.Adam(lr=0.001, beta_1=0.9, beta_2=0.999, epsilon=1e-08)\n",
    "    model = Model([inp,inpt2], out)\n",
    "    model.compile(optimizer = rms, loss = 'mean_squared_error')\n",
    "\n",
    "    return model"
   ]
  },
  {
   "cell_type": "code",
   "execution_count": 17,
   "metadata": {},
   "outputs": [
    {
     "name": "stdout",
     "output_type": "stream",
     "text": [
      "WQ.shape (None, 5, 20)\n",
      "K.permute_dimensions(WK, [0, 2, 1]).shape (None, 20, 5)\n",
      "QK.shape (None, 5, 5)\n",
      "Model: \"functional_1\"\n",
      "__________________________________________________________________________________________________\n",
      "Layer (type)                    Output Shape         Param #     Connected to                     \n",
      "==================================================================================================\n",
      "input_1 (InputLayer)            [(None, 300, 9)]     0                                            \n",
      "__________________________________________________________________________________________________\n",
      "conv1d (Conv1D)                 (None, 150, 256)     9472        input_1[0][0]                    \n",
      "__________________________________________________________________________________________________\n",
      "re_lu (ReLU)                    (None, 150, 256)     0           conv1d[0][0]                     \n",
      "__________________________________________________________________________________________________\n",
      "batch_normalization (BatchNorma (None, 150, 256)     1024        re_lu[0][0]                      \n",
      "__________________________________________________________________________________________________\n",
      "max_pooling1d (MaxPooling1D)    (None, 75, 256)      0           batch_normalization[0][0]        \n",
      "__________________________________________________________________________________________________\n",
      "dropout (Dropout)               (None, 75, 256)      0           max_pooling1d[0][0]              \n",
      "__________________________________________________________________________________________________\n",
      "conv1d_1 (Conv1D)               (None, 38, 256)      262400      dropout[0][0]                    \n",
      "__________________________________________________________________________________________________\n",
      "re_lu_1 (ReLU)                  (None, 38, 256)      0           conv1d_1[0][0]                   \n",
      "__________________________________________________________________________________________________\n",
      "batch_normalization_1 (BatchNor (None, 38, 256)      1024        re_lu_1[0][0]                    \n",
      "__________________________________________________________________________________________________\n",
      "max_pooling1d_1 (MaxPooling1D)  (None, 19, 256)      0           batch_normalization_1[0][0]      \n",
      "__________________________________________________________________________________________________\n",
      "dropout_1 (Dropout)             (None, 19, 256)      0           max_pooling1d_1[0][0]            \n",
      "__________________________________________________________________________________________________\n",
      "conv1d_2 (Conv1D)               (None, 10, 256)      262400      dropout_1[0][0]                  \n",
      "__________________________________________________________________________________________________\n",
      "re_lu_2 (ReLU)                  (None, 10, 256)      0           conv1d_2[0][0]                   \n",
      "__________________________________________________________________________________________________\n",
      "batch_normalization_2 (BatchNor (None, 10, 256)      1024        re_lu_2[0][0]                    \n",
      "__________________________________________________________________________________________________\n",
      "max_pooling1d_2 (MaxPooling1D)  (None, 5, 256)       0           batch_normalization_2[0][0]      \n",
      "__________________________________________________________________________________________________\n",
      "dropout_2 (Dropout)             (None, 5, 256)       0           max_pooling1d_2[0][0]            \n",
      "__________________________________________________________________________________________________\n",
      "correlation_layer (CorrelationL (None, 5, 5)         0           dropout_2[0][0]                  \n",
      "__________________________________________________________________________________________________\n",
      "graph_conv (GraphConv)          (None, 5, 16)        4112        dropout_2[0][0]                  \n",
      "                                                                 correlation_layer[0][0]          \n",
      "__________________________________________________________________________________________________\n",
      "correlation_layer_1 (Correlatio (None, 5, 5)         0           graph_conv[0][0]                 \n",
      "__________________________________________________________________________________________________\n",
      "graph_conv_1 (GraphConv)        (None, 5, 16)        272         graph_conv[0][0]                 \n",
      "                                                                 correlation_layer_1[0][0]        \n",
      "__________________________________________________________________________________________________\n",
      "self__attention (Self_Attention (None, 5, 20)        960         graph_conv_1[0][0]               \n",
      "__________________________________________________________________________________________________\n",
      "bidirectional (Bidirectional)   (None, 300, 256)     141312      input_1[0][0]                    \n",
      "__________________________________________________________________________________________________\n",
      "flatten (Flatten)               (None, 100)          0           self__attention[0][0]            \n",
      "__________________________________________________________________________________________________\n",
      "bidirectional_1 (Bidirectional) (None, 128)          164352      bidirectional[0][0]              \n",
      "__________________________________________________________________________________________________\n",
      "input_2 (InputLayer)            [(None, 9)]          0                                            \n",
      "__________________________________________________________________________________________________\n",
      "concatenate (Concatenate)       (None, 237)          0           flatten[0][0]                    \n",
      "                                                                 bidirectional_1[0][0]            \n",
      "                                                                 input_2[0][0]                    \n",
      "__________________________________________________________________________________________________\n",
      "dense (Dense)                   (None, 256)          60928       concatenate[0][0]                \n",
      "__________________________________________________________________________________________________\n",
      "dense_1 (Dense)                 (None, 128)          32896       dense[0][0]                      \n",
      "__________________________________________________________________________________________________\n",
      "dense_2 (Dense)                 (None, 64)           8256        dense_1[0][0]                    \n",
      "__________________________________________________________________________________________________\n",
      "dense_3 (Dense)                 (None, 50)           3250        dense_2[0][0]                    \n",
      "__________________________________________________________________________________________________\n",
      "dense_4 (Dense)                 (None, 30)           1530        dense_3[0][0]                    \n",
      "__________________________________________________________________________________________________\n",
      "dense_5 (Dense)                 (None, 1)            31          dense_4[0][0]                    \n",
      "==================================================================================================\n",
      "Total params: 955,243\n",
      "Trainable params: 953,707\n",
      "Non-trainable params: 1,536\n",
      "__________________________________________________________________________________________________\n"
     ]
    }
   ],
   "source": [
    "model = get_model()\n",
    "model.summary() "
   ]
  },
  {
   "cell_type": "code",
   "execution_count": 18,
   "metadata": {},
   "outputs": [],
   "source": [
    "### TRAIN A MODEL FOR EACH STORES USING ALL THE DATA AVAILALBE FROM OTHER STORES ###\n",
    "\n",
    "\n",
    "tf.random.set_seed(seed)\n",
    "os.environ['PYTHONHASHSEED'] = str(33)\n",
    "\n",
    "\n",
    "session_conf = tf.compat.v1.ConfigProto(\n",
    "    intra_op_parallelism_threads=1, \n",
    "    inter_op_parallelism_threads=1\n",
    ")\n",
    "sess = tf.compat.v1.Session(\n",
    "    graph=tf.compat.v1.get_default_graph(), \n",
    "    config=session_conf\n",
    ")\n",
    "tf.compat.v1.keras.backend.set_session(sess)\n",
    "\n",
    "pred_train_all=np.zeros(train_y.shape)\n",
    "pred_test_all = np.zeros(test_y.shape)\n",
    "#pred_zhenli_all = np.zeros(y_zhenli.shape)\n",
    "\n",
    "    \n",
    "#es = EarlyStopping(patience=10, verbose=1, min_delta=0.001, monitor='val_loss', mode='auto', restore_best_weights=True)\n"
   ]
  },
  {
   "cell_type": "code",
   "execution_count": 19,
   "metadata": {},
   "outputs": [
    {
     "name": "stdout",
     "output_type": "stream",
     "text": [
      "WQ.shape (None, 5, 20)\n",
      "K.permute_dimensions(WK, [0, 2, 1]).shape (None, 20, 5)\n",
      "QK.shape (None, 5, 5)\n",
      "Epoch 1/300\n",
      "WQ.shape (None, 5, 20)\n",
      "K.permute_dimensions(WK, [0, 2, 1]).shape (None, 20, 5)\n",
      "QK.shape (None, 5, 5)\n",
      "WQ.shape (None, 5, 20)\n",
      "K.permute_dimensions(WK, [0, 2, 1]).shape (None, 20, 5)\n",
      "QK.shape (None, 5, 5)\n",
      "20/20 [==============================] - ETA: 0s - loss: 0.3784WQ.shape (None, 5, 20)\n",
      "K.permute_dimensions(WK, [0, 2, 1]).shape (None, 20, 5)\n",
      "QK.shape (None, 5, 5)\n",
      "20/20 [==============================] - 8s 418ms/step - loss: 0.3784 - val_loss: 0.2204\n",
      "Epoch 2/300\n",
      "20/20 [==============================] - 7s 375ms/step - loss: 0.0997 - val_loss: 0.0740\n",
      "Epoch 3/300\n",
      "20/20 [==============================] - 8s 389ms/step - loss: 0.0864 - val_loss: 0.0769\n",
      "Epoch 4/300\n",
      "20/20 [==============================] - 9s 427ms/step - loss: 0.0817 - val_loss: 0.0674\n",
      "Epoch 5/300\n",
      "20/20 [==============================] - 9s 431ms/step - loss: 0.0769 - val_loss: 0.0656\n",
      "Epoch 6/300\n",
      "20/20 [==============================] - 8s 393ms/step - loss: 0.0760 - val_loss: 0.0616\n",
      "Epoch 7/300\n",
      "20/20 [==============================] - 8s 408ms/step - loss: 0.0748 - val_loss: 0.0701\n",
      "Epoch 8/300\n",
      "20/20 [==============================] - 8s 404ms/step - loss: 0.0729 - val_loss: 0.0607\n",
      "Epoch 9/300\n",
      "20/20 [==============================] - 8s 401ms/step - loss: 0.0723 - val_loss: 0.0603\n",
      "Epoch 10/300\n",
      "20/20 [==============================] - 8s 402ms/step - loss: 0.0711 - val_loss: 0.0728\n",
      "Epoch 11/300\n",
      "20/20 [==============================] - 8s 409ms/step - loss: 0.0688 - val_loss: 0.0618\n",
      "Epoch 12/300\n",
      "20/20 [==============================] - 8s 401ms/step - loss: 0.0680 - val_loss: 0.0700\n",
      "Epoch 13/300\n",
      "20/20 [==============================] - 9s 431ms/step - loss: 0.0662 - val_loss: 0.0708\n",
      "Epoch 14/300\n",
      "20/20 [==============================] - 10s 480ms/step - loss: 0.0644 - val_loss: 0.0618\n",
      "Epoch 15/300\n",
      "20/20 [==============================] - 8s 409ms/step - loss: 0.0634 - val_loss: 0.0620\n",
      "Epoch 16/300\n",
      "20/20 [==============================] - 8s 416ms/step - loss: 0.0622 - val_loss: 0.0651\n",
      "Epoch 17/300\n",
      "20/20 [==============================] - 8s 421ms/step - loss: 0.0621 - val_loss: 0.0637\n",
      "Epoch 18/300\n",
      "20/20 [==============================] - 8s 419ms/step - loss: 0.0614 - val_loss: 0.0650\n",
      "Epoch 19/300\n",
      "20/20 [==============================] - 8s 412ms/step - loss: 0.0614 - val_loss: 0.0634\n",
      "WQ.shape (None, 5, 20)\n",
      "K.permute_dimensions(WK, [0, 2, 1]).shape (None, 20, 5)\n",
      "QK.shape (None, 5, 5)\n"
     ]
    }
   ],
   "source": [
    "from keras.callbacks import EarlyStopping\n",
    "from keras.callbacks import ReduceLROnPlateau\n",
    "lr_reducer = ReduceLROnPlateau(monitor=\"val_loss\",\n",
    "                               factor=0.1,\n",
    "                                cooldown= 0,\n",
    "                                patience= 5,\n",
    "                                min_lr=0.1e-7)\n",
    "early_stopping_monitor = EarlyStopping(monitor= 'val_loss', patience = 10) #10  17.20 1.32\n",
    "callbacks = [lr_reducer, early_stopping_monitor]\n",
    "\n",
    "\n",
    "\n",
    "\n",
    "model = get_model()\n",
    "history=model.fit([train_x,train_physics], train_y, epochs=300, batch_size=256,  \n",
    "            validation_split=0.1, callbacks=callbacks)  #256 ,train_physics  ,test_physics ,train_physics\n",
    "\n",
    "pred_train_all = model.predict([train_x,train_physics]).ravel()\n",
    "pred_test_all = model.predict([test_x,test_physics]).ravel()  ##ravel() 转换成1列\n",
    "\n",
    "\n",
    "#pred_valid_all = scaler_seq.inverse_transform(pred_valid_all)\n",
    "#reverse_valid = scaler_seq.inverse_transform(y_valid)\n",
    "#pred_test_all = scaler_seq.inverse_transform(pred_test_all)\n",
    "#reverse_test = scaler_seq.inverse_transform(y_test)"
   ]
  },
  {
   "cell_type": "code",
   "execution_count": 20,
   "metadata": {},
   "outputs": [
    {
     "data": {
      "text/plain": [
       "Text(0, 0.5, 'Loss')"
      ]
     },
     "execution_count": 20,
     "metadata": {},
     "output_type": "execute_result"
    },
    {
     "data": {
      "image/png": "[encoded data removed]",
      "text/plain": [
       "<Figure size 576x432 with 1 Axes>"
      ]
     },
     "metadata": {
      "needs_background": "light"
     },
     "output_type": "display_data"
    }
   ],
   "source": [
    "from matplotlib.pyplot import plot,savefig\n",
    "loss = history.history['loss']\n",
    "val_loss = history.history['val_loss']\n",
    "epoch = range(1,len(loss)+1)\n",
    "plt.figure(figsize=(8, 6))\n",
    "\n",
    "#plt.semilogy(epoch,loss, color=\"red\",label='Training loss')\n",
    "#plt.semilogy(epoch, val_loss,color=\"blue\", label='Validation loss')\n",
    "\n",
    "plt.plot(epoch,loss, color=\"red\",label='Training loss')\n",
    "plt.plot(epoch, val_loss,color=\"blue\", label='Validation loss')\n",
    "\n",
    "\n",
    "plt.legend()\n",
    "plt.title('Training and validation loss')\n",
    "plt.xlabel('Epochs')\n",
    "plt.ylabel('Loss')"
   ]
  },
  {
   "cell_type": "code",
   "execution_count": 21,
   "metadata": {},
   "outputs": [
    {
     "name": "stdout",
     "output_type": "stream",
     "text": [
      "(19, 1)\n",
      "(19, 1)\n",
      "(19, 1)\n",
      "(19, 3)\n"
     ]
    }
   ],
   "source": [
    "loss=np.array(loss)\n",
    "val_loss=np.array(val_loss)\n",
    "epoch=np.array(epoch)\n",
    "\n",
    "loss=loss.reshape(loss.shape[0],1)\n",
    "val_loss=val_loss.reshape(val_loss.shape[0],1)\n",
    "epoch=epoch.reshape(epoch.shape[0],1)\n",
    "\n",
    "loss_zong=np.concatenate((epoch,loss,val_loss),axis=1)\n",
    "\n",
    "\n",
    "print(epoch.shape)\n",
    "print(val_loss.shape)\n",
    "print(loss.shape)\n",
    "print(loss_zong.shape)\n",
    "\n",
    "data_loss = pd.DataFrame(loss_zong) #将数组转换为dataframe结构\n",
    "data_loss.columns=['epoch','loss','val_loss']\n",
    "writer_loss = pd.ExcelWriter(r'\\PGAloss3.xls')   # 写入Excel文件\n",
    "\n",
    "data_loss.to_excel(writer_loss,float_format='%.5f',index=False)   ## ‘page_1’是写入excel的sheet名\n",
    "writer_loss.save()\n",
    "writer_loss.close()"
   ]
  },
  {
   "cell_type": "code",
   "execution_count": null,
   "metadata": {},
   "outputs": [],
   "source": []
  },
  {
   "cell_type": "code",
   "execution_count": 21,
   "metadata": {
    "scrolled": true
   },
   "outputs": [
    {
     "name": "stdout",
     "output_type": "stream",
     "text": [
      "训练标准差STD= 0.24734831636858354\n",
      "训练误差均值MEAN= -0.003747550090126821\n",
      "训练平均绝对误差MAE= 0.18979106271521748\n",
      "训练RMSE= 0.2473767041215702\n",
      "训练MAPE= 52.223370058188934\n",
      "训练r2 score: 0.7125810748251404\n"
     ]
    },
    {
     "data": {
      "image/png": "[encoded data removed]",
      "text/plain": [
       "<Figure size 360x360 with 1 Axes>"
      ]
     },
     "metadata": {
      "needs_background": "light"
     },
     "output_type": "display_data"
    }
   ],
   "source": [
    "from sklearn import metrics\n",
    "from sklearn.metrics import r2_score\n",
    "print(\"训练标准差STD=\",np.std(pred_train_all-train_y.ravel()))\n",
    "print(\"训练误差均值MEAN=\",np.mean(pred_train_all-train_y.ravel()))\n",
    "print(\"训练平均绝对误差MAE=\",metrics.mean_absolute_error(pred_train_all, train_y.ravel()))\n",
    "print(\"训练RMSE=\",metrics.mean_squared_error(pred_train_all, train_y.ravel())**0.5)\n",
    "print(\"训练MAPE=\",np.mean(np.abs((train_y.ravel() - pred_train_all) / train_y.ravel())) * 100)\n",
    "print(\"训练r2 score:\", r2_score(train_y.ravel(), pred_train_all))\n",
    "\n",
    "\n",
    "plt.figure(figsize=(5, 5))\n",
    "plt.axis('equal')\n",
    "\n",
    "x3 = np.arange(-2, 5, 0.01)\n",
    "y3=x3\n",
    "plt.plot(x3, y3, \"black\")\n",
    "plt.plot(train_y.ravel(),pred_train_all,'.')\n",
    "plt.xlim(-2, 5)\n",
    "plt.ylim(-2, 5)\n",
    "plt.show()"
   ]
  },
  {
   "cell_type": "code",
   "execution_count": 23,
   "metadata": {},
   "outputs": [
    {
     "name": "stdout",
     "output_type": "stream",
     "text": [
      "(5676, 1)\n",
      "(5676, 1)\n",
      "(5676, 2)\n"
     ]
    }
   ],
   "source": [
    "#########################保存训练结果####################################\n",
    "pred_train_all=pred_train_all.reshape(pred_train_all.shape[0],1)\n",
    "\n",
    "#y_score_tr=y_score_tr.reshape(y_score_tr.shape[0],1)\n",
    "print(pred_train_all.shape)\n",
    "print(train_y.shape)\n",
    "\n",
    "tr_result=np.concatenate((train_y,pred_train_all),axis=1)\n",
    "\n",
    "print(tr_result.shape)\n",
    "\n",
    "data_tr = pd.DataFrame(tr_result) #将数组转换为dataframe结构\n",
    "data_tr.columns=['实际PGA','预测PGA']\n",
    "writer_tr = pd.ExcelWriter(r'\\PGAtrain3.xls')   # 写入Excel文件\n",
    "\n",
    "data_tr.to_excel(writer_tr,float_format='%.5f',index=False)   ## ‘page_1’是写入excel的sheet名\n",
    "writer_tr.save()\n",
    "writer_tr.close()\n",
    "#########################保存训练结果####################################"
   ]
  },
  {
   "cell_type": "code",
   "execution_count": 22,
   "metadata": {},
   "outputs": [
    {
     "name": "stdout",
     "output_type": "stream",
     "text": [
      "测试标准差STD= 0.26107222214909437\n",
      "测试误差均值MEAN= 0.011147087924821301\n",
      "测试平均绝对误差MAE= 0.20545024890363794\n",
      "测试RMSE= 0.2613100892561743\n",
      "测试MAPE= 41.51281574935874\n",
      "测试r2 score: 0.6882144246277078\n"
     ]
    },
    {
     "data": {
      "image/png": "[encoded data removed]",
      "text/plain": [
       "<Figure size 360x360 with 1 Axes>"
      ]
     },
     "metadata": {
      "needs_background": "light"
     },
     "output_type": "display_data"
    }
   ],
   "source": [
    "print(\"测试标准差STD=\",np.std(pred_test_all-test_y.ravel()))\n",
    "print(\"测试误差均值MEAN=\",np.mean(pred_test_all-test_y.ravel()))\n",
    "print(\"测试平均绝对误差MAE=\",metrics.mean_absolute_error(pred_test_all, test_y.ravel()))\n",
    "print(\"测试RMSE=\",metrics.mean_squared_error(pred_test_all, test_y.ravel())**0.5)\n",
    "print(\"测试MAPE=\",np.mean(np.abs((test_y.ravel() - pred_test_all) / test_y.ravel())) * 100)\n",
    "print(\"测试r2 score:\", r2_score(test_y.ravel(), pred_test_all))\n",
    "\n",
    "\n",
    "plt.figure(figsize=(5, 5))\n",
    "plt.axis('equal')\n",
    "\n",
    "x3 = np.arange(-2, 5, 0.01)\n",
    "y3=x3\n",
    "plt.plot(x3, y3, \"black\")\n",
    "plt.plot(test_y.ravel(),pred_test_all,'.')\n",
    "plt.xlim(-2, 5)\n",
    "plt.ylim(-2, 5)\n",
    "plt.show()   "
   ]
  },
  {
   "cell_type": "code",
   "execution_count": 25,
   "metadata": {
    "scrolled": true
   },
   "outputs": [
    {
     "name": "stdout",
     "output_type": "stream",
     "text": [
      "(2392, 1)\n",
      "(2392, 1)\n",
      "(2392, 2)\n"
     ]
    }
   ],
   "source": [
    "#########################保存测试结果####################################\n",
    "pred_test_all=pred_test_all.reshape(pred_test_all.shape[0],1)\n",
    "\n",
    "print(pred_test_all.shape)\n",
    "print(test_y.shape)\n",
    "\n",
    "te_result=np.concatenate((test_y,pred_test_all),axis=1)\n",
    "\n",
    "print(te_result.shape)\n",
    "\n",
    "data_te = pd.DataFrame(te_result) #将数组转换为dataframe结构\n",
    "data_te.columns=['实际PGA','预测PGA']\n",
    "writer_te = pd.ExcelWriter(r'\\PGAtest3.xls')   # 写入Excel文件\n",
    "\n",
    "data_te.to_excel(writer_te,float_format='%.5f',index=False)   ## ‘page_1’是写入excel的sheet名\n",
    "writer_te.save()\n",
    "writer_te.close()\n",
    "#########################保存测试结果####################################"
   ]
  },
  {
   "cell_type": "code",
   "execution_count": null,
   "metadata": {},
   "outputs": [],
   "source": []
  },
  {
   "cell_type": "code",
   "execution_count": 23,
   "metadata": {},
   "outputs": [],
   "source": [
    "#震例\n",
    "import scipy.io as scio\n",
    "import pandas as pd\n",
    "\n",
    "#input\n",
    "feature1z = r'\\积石山震例\\ACC_EW.mat'\n",
    "data1z = scio.loadmat(feature1z)\n",
    "AAz=data1z['ACC_EW']\n",
    "Az=AAz[:,0:300]\n",
    "\n",
    "feature2z = r'\\积石山震例\\ACC_NS.mat'\n",
    "data2z = scio.loadmat(feature2z)\n",
    "BBz=data2z['ACC_NS']\n",
    "Bz=BBz[:,0:300]\n",
    "\n",
    "feature3z = r'\\积石山震例\\ACC_UD.mat'\n",
    "data3z = scio.loadmat(feature3z)\n",
    "CCz=data3z['ACC_UD']\n",
    "Cz=CCz[:,0:300]\n",
    "\n",
    "feature4z = r'\\积石山震例\\DIS_EW.mat'\n",
    "data4z = scio.loadmat(feature4z)\n",
    "DDz=data4z['DIS_EW']\n",
    "Dz=DDz[:,0:300]\n",
    "\n",
    "feature5z = r'\\积石山震例\\DIS_NS.mat'\n",
    "data5z = scio.loadmat(feature5z)\n",
    "EEz=data5z['DIS_NS']\n",
    "Ez=EEz[:,0:300]\n",
    "\n",
    "feature6z = r'\\积石山震例\\DIS_UD.mat'\n",
    "data6z = scio.loadmat(feature6z)\n",
    "FFz=data6z['DIS_UD']\n",
    "Fz=FFz[:,0:300]\n",
    "\n",
    "feature7z = r'\\积石山震例\\VEL_EW.mat'\n",
    "data7z = scio.loadmat(feature7z)\n",
    "GGz=data7z['VEL_EW']\n",
    "Gz=GGz[:,0:300]\n",
    "\n",
    "feature8z = r'\\积石山震例\\VEL_NS.mat'\n",
    "data8z = scio.loadmat(feature8z)\n",
    "HHz=data8z['VEL_NS']\n",
    "Hz=HHz[:,0:300]\n",
    "\n",
    "feature9z = r'\\积石山震例\\VEL_UD.mat'\n",
    "data9z = scio.loadmat(feature9z)\n",
    "IIz=data9z['VEL_UD']\n",
    "Iz=IIz[:,0:300]\n",
    "\n",
    "\n",
    "labelz = pd.read_csv(open(r'\\积石山震例\\震例PGA参数3s.csv',encoding='UTF-8'))\n"
   ]
  },
  {
   "cell_type": "code",
   "execution_count": 24,
   "metadata": {},
   "outputs": [
    {
     "name": "stdout",
     "output_type": "stream",
     "text": [
      "[-0.83242318 -0.3391172   1.14167608 -0.54745731  1.30126289 -0.5319254\n",
      "  3.30376988  1.90669845  1.67392068  1.81095491]\n",
      "(919, 10)\n"
     ]
    }
   ],
   "source": [
    "raw_data1z=np.hstack((Az,Bz))\n",
    "raw_data2z=np.hstack((raw_data1z,Cz))\n",
    "raw_data3z=np.hstack((raw_data2z,Dz))\n",
    "raw_data4z=np.hstack((raw_data3z,Ez))\n",
    "raw_data5z=np.hstack((raw_data4z,Fz))\n",
    "raw_data6z=np.hstack((raw_data5z,Gz))\n",
    "raw_data7z=np.hstack((raw_data6z,Hz))\n",
    "x_dataz=np.hstack((raw_data7z,Iz))\n",
    "\n",
    "y_dataz=labelz.iloc[:,[0,1,2,3,4,5,6,7,8,9]].values  #知识嵌入\n",
    "#y_data=label.iloc[:,[12]].values    #导入数据  iloc通过行号获取行数据\n",
    "print(y_dataz[0])\n",
    "print(y_dataz.shape)"
   ]
  },
  {
   "cell_type": "code",
   "execution_count": 25,
   "metadata": {},
   "outputs": [
    {
     "name": "stdout",
     "output_type": "stream",
     "text": [
      "(919, 1)\n",
      "[1.81095491]\n",
      "(919, 9)\n",
      "[-0.83242318 -0.3391172   1.14167608 -0.54745731  1.30126289 -0.5319254\n",
      "  3.30376988  1.90669845  1.67392068]\n"
     ]
    }
   ],
   "source": [
    "zhenli_y=y_dataz[:,[9]]\n",
    "zhenli_physics=y_dataz[:,[0,1,2,3,4,5,6,7,8]]\n",
    "print(zhenli_y.shape)\n",
    "print(zhenli_y[0])\n",
    "\n",
    "print(zhenli_physics.shape)\n",
    "print(zhenli_physics[0])\n"
   ]
  },
  {
   "cell_type": "code",
   "execution_count": 26,
   "metadata": {},
   "outputs": [],
   "source": [
    "zhenli_x=[]\n",
    "for i in range(len(x_dataz)):\n",
    "    zhenli_x.append(np.array(x_dataz[i].reshape(9,1,300)).T)"
   ]
  },
  {
   "cell_type": "code",
   "execution_count": 27,
   "metadata": {},
   "outputs": [],
   "source": [
    "zhenli_x=np.array(zhenli_x)"
   ]
  },
  {
   "cell_type": "code",
   "execution_count": 28,
   "metadata": {},
   "outputs": [],
   "source": [
    "zhenli_x = np.reshape(zhenli_x, (zhenli_x.shape[0], 300, 9))"
   ]
  },
  {
   "cell_type": "code",
   "execution_count": 29,
   "metadata": {},
   "outputs": [],
   "source": [
    "pred_zhenli_all = model.predict([zhenli_x,zhenli_physics]).ravel()  ##ravel() 转换成1列"
   ]
  },
  {
   "cell_type": "code",
   "execution_count": 30,
   "metadata": {},
   "outputs": [
    {
     "name": "stdout",
     "output_type": "stream",
     "text": [
      "震例标准差STD= 0.29569422352577596\n",
      "震例误差均值MEAN= -0.19340167927250643\n",
      "震例平均绝对误差MAE= 0.2938051603206099\n",
      "震例RMSE= 0.3533260298533594\n",
      "震例MAPE= 38.613862624483716\n",
      "震例r2 score: 0.7119391322528095\n"
     ]
    },
    {
     "data": {
      "image/png": "[encoded data removed]",
      "text/plain": [
       "<Figure size 360x360 with 1 Axes>"
      ]
     },
     "metadata": {
      "needs_background": "light"
     },
     "output_type": "display_data"
    }
   ],
   "source": [
    "print(\"震例标准差STD=\",np.std(pred_zhenli_all-zhenli_y.ravel()))\n",
    "print(\"震例误差均值MEAN=\",np.mean(pred_zhenli_all-zhenli_y.ravel()))\n",
    "print(\"震例平均绝对误差MAE=\",metrics.mean_absolute_error(pred_zhenli_all, zhenli_y.ravel()))\n",
    "print(\"震例RMSE=\",metrics.mean_squared_error(pred_zhenli_all, zhenli_y.ravel())**0.5)\n",
    "print(\"震例MAPE=\",np.mean(np.abs((zhenli_y.ravel() - pred_zhenli_all) / zhenli_y.ravel())) * 100)\n",
    "print(\"震例r2 score:\", r2_score(zhenli_y.ravel(), pred_zhenli_all))\n",
    "\n",
    "\n",
    "plt.figure(figsize=(5, 5))\n",
    "plt.axis('equal')\n",
    "\n",
    "x3 = np.arange(-2, 5, 0.01)\n",
    "y3=x3\n",
    "plt.plot(x3, y3, \"black\")\n",
    "plt.plot(zhenli_y.ravel(),pred_zhenli_all,'.')\n",
    "plt.xlim(-2, 5)\n",
    "plt.ylim(-2, 5)\n",
    "plt.show()  "
   ]
  },
  {
   "cell_type": "code",
   "execution_count": 31,
   "metadata": {},
   "outputs": [
    {
     "name": "stdout",
     "output_type": "stream",
     "text": [
      "(919, 1)\n",
      "(919, 1)\n",
      "(919, 2)\n"
     ]
    }
   ],
   "source": [
    "#########################保存震例结果####################################\n",
    "pred_zhenli_all=pred_zhenli_all.reshape(pred_zhenli_all.shape[0],1)\n",
    "\n",
    "print(pred_zhenli_all.shape)\n",
    "print(zhenli_y.shape)\n",
    "\n",
    "tz_result=np.concatenate((zhenli_y,pred_zhenli_all),axis=1)\n",
    "\n",
    "print(tz_result.shape)\n",
    "\n",
    "data_tz = pd.DataFrame(tz_result) #将数组转换为dataframe结构\n",
    "data_tz.columns=['实际PGA','预测PGA']\n",
    "writer_tz = pd.ExcelWriter(r'\\积石山震例\\PGAzhenli3.xls')   # 写入Excel文件\n",
    "\n",
    "data_tz.to_excel(writer_tz,float_format='%.5f',index=False)   ## ‘page_1’是写入excel的sheet名\n",
    "writer_tz.save()\n",
    "writer_tz.close()\n",
    "#########################保存震例结果####################################"
   ]
  },
  {
   "cell_type": "code",
   "execution_count": null,
   "metadata": {},
   "outputs": [],
   "source": []
  }
 ],
 "metadata": {
  "kernelspec": {
   "display_name": "Python 3",
   "language": "python",
   "name": "python3"
  },
  "language_info": {
   "codemirror_mode": {
    "name": "ipython",
    "version": 3
   },
   "file_extension": ".py",
   "mimetype": "text/x-python",
   "name": "python",
   "nbconvert_exporter": "python",
   "pygments_lexer": "ipython3",
   "version": "3.7.0"
  }
 },
 "nbformat": 4,
 "nbformat_minor": 2
}
